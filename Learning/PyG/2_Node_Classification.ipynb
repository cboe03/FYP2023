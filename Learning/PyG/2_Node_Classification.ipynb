{
  "nbformat": 4,
  "nbformat_minor": 0,
  "metadata": {
    "colab": {
      "provenance": []
    },
    "kernelspec": {
      "name": "python3",
      "display_name": "Python 3"
    }
  },
  "cells": [
    {
      "cell_type": "code",
      "metadata": {
        "id": "F1op-CbyLuN4",
        "colab": {
          "base_uri": "https://localhost:8080/"
        },
        "outputId": "f45aeb01-8320-417c-d950-07529f27828a"
      },
      "source": [
        "# Install required packages.\n",
        "import os\n",
        "import torch\n",
        "os.environ['TORCH'] = torch.__version__\n",
        "print(torch.__version__)\n",
        "\n",
        "!pip install -q torch-scatter -f https://data.pyg.org/whl/torch-${TORCH}.html\n",
        "!pip install -q torch-sparse -f https://data.pyg.org/whl/torch-${TORCH}.html\n",
        "!pip install -q git+https://github.com/pyg-team/pytorch_geometric.git\n",
        "\n",
        "# Helper function for visualization.\n",
        "%matplotlib inline\n",
        "import matplotlib.pyplot as plt\n",
        "from sklearn.manifold import TSNE\n",
        "\n",
        "def visualize(h, color):\n",
        "    z = TSNE(n_components=2).fit_transform(h.detach().cpu().numpy())\n",
        "\n",
        "    plt.figure(figsize=(10,10))\n",
        "    plt.xticks([])\n",
        "    plt.yticks([])\n",
        "\n",
        "    plt.scatter(z[:, 0], z[:, 1], s=70, c=color, cmap=\"Set2\")\n",
        "    plt.show()"
      ],
      "execution_count": 1,
      "outputs": [
        {
          "output_type": "stream",
          "name": "stdout",
          "text": [
            "1.13.1+cu116\n",
            "\u001b[2K     \u001b[90m━━━━━━━━━━━━━━━━━━━━━━━━━━━━━━━━━━━━━━━━\u001b[0m \u001b[32m9.4/9.4 MB\u001b[0m \u001b[31m13.1 MB/s\u001b[0m eta \u001b[36m0:00:00\u001b[0m\n",
            "\u001b[2K     \u001b[90m━━━━━━━━━━━━━━━━━━━━━━━━━━━━━━━━━━━━━━━━\u001b[0m \u001b[32m4.5/4.5 MB\u001b[0m \u001b[31m13.0 MB/s\u001b[0m eta \u001b[36m0:00:00\u001b[0m\n",
            "\u001b[?25h  Installing build dependencies ... \u001b[?25l\u001b[?25hdone\n",
            "  Getting requirements to build wheel ... \u001b[?25l\u001b[?25hdone\n",
            "  Preparing metadata (pyproject.toml) ... \u001b[?25l\u001b[?25hdone\n",
            "  Building wheel for torch-geometric (pyproject.toml) ... \u001b[?25l\u001b[?25hdone\n"
          ]
        }
      ]
    },
    {
      "cell_type": "markdown",
      "metadata": {
        "id": "dszt2RUHE7lW"
      },
      "source": [
        "# Node Classification with Graph Neural Networks\n",
        "\n",
        "[Previous: Introduction: Hands-on Graph Neural Networks](https://colab.research.google.com/drive/1h3-vJGRVloF5zStxL5I0rSy4ZUPNsjy8)\n",
        "\n",
        "This tutorial will teach you how to apply **Graph Neural Networks (GNNs) to the task of node classification**.\n",
        "Here, we are given the ground-truth labels of only a small subset of nodes, and want to infer the labels for all the remaining nodes (*transductive learning*).\n",
        "\n",
        "To demonstrate, we make use of the `Cora` dataset, which is a **citation network** where nodes represent documents.\n",
        "Each node is described by a 1433-dimensional bag-of-words feature vector.\n",
        "Two documents are connected if there exists a citation link between them.\n",
        "The task is to infer the category of each document (7 in total).\n",
        "\n",
        "This dataset was first introduced by [Yang et al. (2016)](https://arxiv.org/abs/1603.08861) as one of the datasets of the `Planetoid` benchmark suite.\n",
        "We again can make use [PyTorch Geometric](https://github.com/rusty1s/pytorch_geometric) for an easy access to this dataset via [`torch_geometric.datasets.Planetoid`](https://pytorch-geometric.readthedocs.io/en/latest/modules/datasets.html#torch_geometric.datasets.Planetoid):"
      ]
    },
    {
      "cell_type": "code",
      "metadata": {
        "id": "imGrKO5YH11-",
        "colab": {
          "base_uri": "https://localhost:8080/"
        },
        "outputId": "b0b7c7c8-698c-4c93-b476-9da83aa25c3f"
      },
      "source": [
        "from torch_geometric.datasets import Planetoid\n",
        "from torch_geometric.transforms import NormalizeFeatures\n",
        "\n",
        "dataset = Planetoid(root='data/Planetoid', name='Cora', transform=NormalizeFeatures())\n",
        "\n",
        "print()\n",
        "print(f'Dataset: {dataset}:')\n",
        "print('======================')\n",
        "print(f'Number of graphs: {len(dataset)}')\n",
        "print(f'Number of features: {dataset.num_features}')\n",
        "print(f'Number of classes: {dataset.num_classes}')\n",
        "\n",
        "data = dataset[0]  # Get the first graph object.\n",
        "\n",
        "print()\n",
        "print(data)\n",
        "print('===========================================================================================================')\n",
        "\n",
        "# Gather some statistics about the graph.\n",
        "print(f'Number of nodes: {data.num_nodes}')\n",
        "print(f'Number of edges: {data.num_edges}')\n",
        "print(f'Average node degree: {data.num_edges / data.num_nodes:.2f}')\n",
        "print(f'Number of training nodes: {data.train_mask.sum()}')\n",
        "print(f'Training node label rate: {int(data.train_mask.sum()) / data.num_nodes:.2f}')\n",
        "print(f'Has isolated nodes: {data.has_isolated_nodes()}')\n",
        "print(f'Has self-loops: {data.has_self_loops()}')\n",
        "print(f'Is undirected: {data.is_undirected()}')"
      ],
      "execution_count": 2,
      "outputs": [
        {
          "output_type": "stream",
          "name": "stderr",
          "text": [
            "Downloading https://github.com/kimiyoung/planetoid/raw/master/data/ind.cora.x\n",
            "Downloading https://github.com/kimiyoung/planetoid/raw/master/data/ind.cora.tx\n",
            "Downloading https://github.com/kimiyoung/planetoid/raw/master/data/ind.cora.allx\n",
            "Downloading https://github.com/kimiyoung/planetoid/raw/master/data/ind.cora.y\n",
            "Downloading https://github.com/kimiyoung/planetoid/raw/master/data/ind.cora.ty\n",
            "Downloading https://github.com/kimiyoung/planetoid/raw/master/data/ind.cora.ally\n",
            "Downloading https://github.com/kimiyoung/planetoid/raw/master/data/ind.cora.graph\n",
            "Downloading https://github.com/kimiyoung/planetoid/raw/master/data/ind.cora.test.index\n",
            "Processing...\n"
          ]
        },
        {
          "output_type": "stream",
          "name": "stdout",
          "text": [
            "\n",
            "Dataset: Cora():\n",
            "======================\n",
            "Number of graphs: 1\n",
            "Number of features: 1433\n",
            "Number of classes: 7\n",
            "\n",
            "Data(x=[2708, 1433], edge_index=[2, 10556], y=[2708], train_mask=[2708], val_mask=[2708], test_mask=[2708])\n",
            "===========================================================================================================\n",
            "Number of nodes: 2708\n",
            "Number of edges: 10556\n",
            "Average node degree: 3.90\n",
            "Number of training nodes: 140\n",
            "Training node label rate: 0.05\n",
            "Has isolated nodes: False\n",
            "Has self-loops: False\n",
            "Is undirected: True\n"
          ]
        },
        {
          "output_type": "stream",
          "name": "stderr",
          "text": [
            "Done!\n"
          ]
        }
      ]
    },
    {
      "cell_type": "markdown",
      "metadata": {
        "id": "eqWR0j_kIx67"
      },
      "source": [
        "Overall, this dataset is quite similar to the previously used [`KarateClub`](https://pytorch-geometric.readthedocs.io/en/latest/modules/datasets.html#torch_geometric.datasets.KarateClub) network.\n",
        "We can see that the `Cora` network holds 2,708 nodes and 10,556 edges, resulting in an average node degree of 3.9.\n",
        "For training this dataset, we are given the ground-truth categories of 140 nodes (20 for each class).\n",
        "This results in a training node label rate of only 5%.\n",
        "\n",
        "In contrast to `KarateClub`, this graph holds the additional attributes `val_mask` and `test_mask`, which denotes which nodes should be used for validation and testing.\n",
        "Furthermore, we make use of **[data transformations](https://pytorch-geometric.readthedocs.io/en/latest/notes/introduction.html#data-transforms) via `transform=NormalizeFeatures()`**.\n",
        "Transforms can be used to modify your input data before inputting them into a neural network, *e.g.*, for normalization or data augmentation.\n",
        "Here, we [row-normalize](https://pytorch-geometric.readthedocs.io/en/latest/modules/transforms.html#torch_geometric.transforms.NormalizeFeatures) the bag-of-words input feature vectors.\n",
        "\n",
        "We can further see that this network is undirected, and that there exists no isolated nodes (each document has at least one citation)."
      ]
    },
    {
      "cell_type": "markdown",
      "metadata": {
        "id": "5IRdAELVKOl6"
      },
      "source": [
        "## Training a Multi-layer Perception Network (MLP)\n",
        "\n",
        "In theory, we should be able to infer the category of a document solely based on its content, *i.e.* its bag-of-words feature representation, without taking any relational information into account.\n",
        "\n",
        "Let's verify that by constructing a simple MLP that solely operates on input node features (using shared weights across all nodes):"
      ]
    },
    {
      "cell_type": "code",
      "metadata": {
        "id": "afXwPCA3KNoC",
        "colab": {
          "base_uri": "https://localhost:8080/"
        },
        "outputId": "0810c203-aff1-4e5d-cae0-722b0cef9213"
      },
      "source": [
        "import torch\n",
        "from torch.nn import Linear\n",
        "import torch.nn.functional as F\n",
        "\n",
        "\n",
        "class MLP(torch.nn.Module):\n",
        "    def __init__(self, hidden_channels):\n",
        "        super().__init__()\n",
        "        torch.manual_seed(12345)\n",
        "        self.lin1 = Linear(dataset.num_features, hidden_channels)\n",
        "        self.lin2 = Linear(hidden_channels, dataset.num_classes)\n",
        "\n",
        "    def forward(self, x):\n",
        "        x = self.lin1(x)\n",
        "        x = x.relu()\n",
        "        x = F.dropout(x, p=0.5, training=self.training)\n",
        "        x = self.lin2(x)\n",
        "        return x\n",
        "\n",
        "model = MLP(hidden_channels=16)\n",
        "print(model)"
      ],
      "execution_count": 3,
      "outputs": [
        {
          "output_type": "stream",
          "name": "stdout",
          "text": [
            "MLP(\n",
            "  (lin1): Linear(in_features=1433, out_features=16, bias=True)\n",
            "  (lin2): Linear(in_features=16, out_features=7, bias=True)\n",
            ")\n"
          ]
        }
      ]
    },
    {
      "cell_type": "markdown",
      "metadata": {
        "id": "L_PO9EEHL7J6"
      },
      "source": [
        "Our MLP is defined by two linear layers and enhanced by [ReLU](https://pytorch.org/docs/stable/generated/torch.nn.ReLU.html?highlight=relu#torch.nn.ReLU) non-linearity and [dropout](https://pytorch.org/docs/stable/generated/torch.nn.Dropout.html?highlight=dropout#torch.nn.Dropout).\n",
        "Here, we first reduce the 1433-dimensional feature vector to a low-dimensional embedding (`hidden_channels=16`), while the second linear layer acts as a classifier that should map each low-dimensional node embedding to one of the 7 classes.\n",
        "\n",
        "Let's train our simple MLP by following a similar procedure as described in [the first part of this tutorial](https://colab.research.google.com/drive/1h3-vJGRVloF5zStxL5I0rSy4ZUPNsjy8).\n",
        "We again make use of the **cross entropy loss** and **Adam optimizer**.\n",
        "This time, we also define a **`test` function** to evaluate how well our final model performs on the test node set (which labels have not been observed during training)."
      ]
    },
    {
      "cell_type": "code",
      "metadata": {
        "id": "0YgHcLXMLk4o",
        "colab": {
          "base_uri": "https://localhost:8080/",
          "height": 300
        },
        "outputId": "c9a11397-1b9a-491e-f635-91471890a1c9"
      },
      "source": [
        "from IPython.display import Javascript  # Restrict height of output cell.\n",
        "display(Javascript('''google.colab.output.setIframeHeight(0, true, {maxHeight: 300})'''))\n",
        "\n",
        "model = MLP(hidden_channels=16)\n",
        "criterion = torch.nn.CrossEntropyLoss()  # Define loss criterion.\n",
        "optimizer = torch.optim.Adam(model.parameters(), lr=0.01, weight_decay=5e-4)  # Define optimizer.\n",
        "\n",
        "def train():\n",
        "      model.train()\n",
        "      optimizer.zero_grad()  # Clear gradients.\n",
        "      out = model(data.x)  # Perform a single forward pass.\n",
        "      loss = criterion(out[data.train_mask], data.y[data.train_mask])  # Compute the loss solely based on the training nodes.\n",
        "      loss.backward()  # Derive gradients.\n",
        "      optimizer.step()  # Update parameters based on gradients.\n",
        "      return loss\n",
        "\n",
        "def test():\n",
        "      model.eval()\n",
        "      out = model(data.x)\n",
        "      pred = out.argmax(dim=1)  # Use the class with highest probability.\n",
        "      test_correct = pred[data.test_mask] == data.y[data.test_mask]  # Check against ground-truth labels.\n",
        "      test_acc = int(test_correct.sum()) / int(data.test_mask.sum())  # Derive ratio of correct predictions.\n",
        "      return test_acc\n",
        "\n",
        "for epoch in range(1, 201):\n",
        "    loss = train()\n",
        "    print(f'Epoch: {epoch:03d}, Loss: {loss:.4f}')"
      ],
      "execution_count": 4,
      "outputs": [
        {
          "output_type": "display_data",
          "data": {
            "text/plain": [
              "<IPython.core.display.Javascript object>"
            ],
            "application/javascript": [
              "google.colab.output.setIframeHeight(0, true, {maxHeight: 300})"
            ]
          },
          "metadata": {}
        },
        {
          "output_type": "stream",
          "name": "stdout",
          "text": [
            "Epoch: 001, Loss: 1.9615\n",
            "Epoch: 002, Loss: 1.9557\n",
            "Epoch: 003, Loss: 1.9505\n",
            "Epoch: 004, Loss: 1.9423\n",
            "Epoch: 005, Loss: 1.9327\n",
            "Epoch: 006, Loss: 1.9279\n",
            "Epoch: 007, Loss: 1.9144\n",
            "Epoch: 008, Loss: 1.9087\n",
            "Epoch: 009, Loss: 1.9023\n",
            "Epoch: 010, Loss: 1.8893\n",
            "Epoch: 011, Loss: 1.8776\n",
            "Epoch: 012, Loss: 1.8594\n",
            "Epoch: 013, Loss: 1.8457\n",
            "Epoch: 014, Loss: 1.8365\n",
            "Epoch: 015, Loss: 1.8280\n",
            "Epoch: 016, Loss: 1.7965\n",
            "Epoch: 017, Loss: 1.7984\n",
            "Epoch: 018, Loss: 1.7832\n",
            "Epoch: 019, Loss: 1.7495\n",
            "Epoch: 020, Loss: 1.7441\n",
            "Epoch: 021, Loss: 1.7188\n",
            "Epoch: 022, Loss: 1.7124\n",
            "Epoch: 023, Loss: 1.6785\n",
            "Epoch: 024, Loss: 1.6660\n",
            "Epoch: 025, Loss: 1.6119\n",
            "Epoch: 026, Loss: 1.6236\n",
            "Epoch: 027, Loss: 1.5827\n",
            "Epoch: 028, Loss: 1.5784\n",
            "Epoch: 029, Loss: 1.5524\n",
            "Epoch: 030, Loss: 1.5020\n",
            "Epoch: 031, Loss: 1.5065\n",
            "Epoch: 032, Loss: 1.4742\n",
            "Epoch: 033, Loss: 1.4581\n",
            "Epoch: 034, Loss: 1.4246\n",
            "Epoch: 035, Loss: 1.4131\n",
            "Epoch: 036, Loss: 1.4112\n",
            "Epoch: 037, Loss: 1.3923\n",
            "Epoch: 038, Loss: 1.3055\n",
            "Epoch: 039, Loss: 1.2982\n",
            "Epoch: 040, Loss: 1.2543\n",
            "Epoch: 041, Loss: 1.2244\n",
            "Epoch: 042, Loss: 1.2331\n",
            "Epoch: 043, Loss: 1.1984\n",
            "Epoch: 044, Loss: 1.1796\n",
            "Epoch: 045, Loss: 1.1093\n",
            "Epoch: 046, Loss: 1.1284\n",
            "Epoch: 047, Loss: 1.1229\n",
            "Epoch: 048, Loss: 1.0383\n",
            "Epoch: 049, Loss: 1.0439\n",
            "Epoch: 050, Loss: 1.0563\n",
            "Epoch: 051, Loss: 0.9893\n",
            "Epoch: 052, Loss: 1.0508\n",
            "Epoch: 053, Loss: 0.9343\n",
            "Epoch: 054, Loss: 0.9639\n",
            "Epoch: 055, Loss: 0.8929\n",
            "Epoch: 056, Loss: 0.8705\n",
            "Epoch: 057, Loss: 0.9176\n",
            "Epoch: 058, Loss: 0.9239\n",
            "Epoch: 059, Loss: 0.8641\n",
            "Epoch: 060, Loss: 0.8578\n",
            "Epoch: 061, Loss: 0.7908\n",
            "Epoch: 062, Loss: 0.7856\n",
            "Epoch: 063, Loss: 0.7683\n",
            "Epoch: 064, Loss: 0.7816\n",
            "Epoch: 065, Loss: 0.7356\n",
            "Epoch: 066, Loss: 0.6951\n",
            "Epoch: 067, Loss: 0.7300\n",
            "Epoch: 068, Loss: 0.6939\n",
            "Epoch: 069, Loss: 0.7550\n",
            "Epoch: 070, Loss: 0.6864\n",
            "Epoch: 071, Loss: 0.7094\n",
            "Epoch: 072, Loss: 0.7238\n",
            "Epoch: 073, Loss: 0.7150\n",
            "Epoch: 074, Loss: 0.6191\n",
            "Epoch: 075, Loss: 0.6770\n",
            "Epoch: 076, Loss: 0.6487\n",
            "Epoch: 077, Loss: 0.6258\n",
            "Epoch: 078, Loss: 0.5821\n",
            "Epoch: 079, Loss: 0.5637\n",
            "Epoch: 080, Loss: 0.6368\n",
            "Epoch: 081, Loss: 0.6333\n",
            "Epoch: 082, Loss: 0.6434\n",
            "Epoch: 083, Loss: 0.5974\n",
            "Epoch: 084, Loss: 0.6176\n",
            "Epoch: 085, Loss: 0.5972\n",
            "Epoch: 086, Loss: 0.4690\n",
            "Epoch: 087, Loss: 0.6362\n",
            "Epoch: 088, Loss: 0.6118\n",
            "Epoch: 089, Loss: 0.5248\n",
            "Epoch: 090, Loss: 0.5520\n",
            "Epoch: 091, Loss: 0.6130\n",
            "Epoch: 092, Loss: 0.5361\n",
            "Epoch: 093, Loss: 0.5594\n",
            "Epoch: 094, Loss: 0.5049\n",
            "Epoch: 095, Loss: 0.5043\n",
            "Epoch: 096, Loss: 0.5235\n",
            "Epoch: 097, Loss: 0.5451\n",
            "Epoch: 098, Loss: 0.5329\n",
            "Epoch: 099, Loss: 0.5008\n",
            "Epoch: 100, Loss: 0.5350\n",
            "Epoch: 101, Loss: 0.5343\n",
            "Epoch: 102, Loss: 0.5138\n",
            "Epoch: 103, Loss: 0.5377\n",
            "Epoch: 104, Loss: 0.5353\n",
            "Epoch: 105, Loss: 0.5176\n",
            "Epoch: 106, Loss: 0.5229\n",
            "Epoch: 107, Loss: 0.4558\n",
            "Epoch: 108, Loss: 0.4883\n",
            "Epoch: 109, Loss: 0.4659\n",
            "Epoch: 110, Loss: 0.4908\n",
            "Epoch: 111, Loss: 0.4966\n",
            "Epoch: 112, Loss: 0.4725\n",
            "Epoch: 113, Loss: 0.4787\n",
            "Epoch: 114, Loss: 0.4390\n",
            "Epoch: 115, Loss: 0.4199\n",
            "Epoch: 116, Loss: 0.4810\n",
            "Epoch: 117, Loss: 0.4484\n",
            "Epoch: 118, Loss: 0.5080\n",
            "Epoch: 119, Loss: 0.4241\n",
            "Epoch: 120, Loss: 0.4745\n",
            "Epoch: 121, Loss: 0.4651\n",
            "Epoch: 122, Loss: 0.4652\n",
            "Epoch: 123, Loss: 0.5580\n",
            "Epoch: 124, Loss: 0.4861\n",
            "Epoch: 125, Loss: 0.4405\n",
            "Epoch: 126, Loss: 0.4292\n",
            "Epoch: 127, Loss: 0.4409\n",
            "Epoch: 128, Loss: 0.3575\n",
            "Epoch: 129, Loss: 0.4468\n",
            "Epoch: 130, Loss: 0.4603\n",
            "Epoch: 131, Loss: 0.4108\n",
            "Epoch: 132, Loss: 0.4601\n",
            "Epoch: 133, Loss: 0.4258\n",
            "Epoch: 134, Loss: 0.3852\n",
            "Epoch: 135, Loss: 0.4028\n",
            "Epoch: 136, Loss: 0.4245\n",
            "Epoch: 137, Loss: 0.4300\n",
            "Epoch: 138, Loss: 0.4693\n",
            "Epoch: 139, Loss: 0.4314\n",
            "Epoch: 140, Loss: 0.4031\n",
            "Epoch: 141, Loss: 0.4290\n",
            "Epoch: 142, Loss: 0.4110\n",
            "Epoch: 143, Loss: 0.3863\n",
            "Epoch: 144, Loss: 0.4215\n",
            "Epoch: 145, Loss: 0.4519\n",
            "Epoch: 146, Loss: 0.3940\n",
            "Epoch: 147, Loss: 0.4429\n",
            "Epoch: 148, Loss: 0.3527\n",
            "Epoch: 149, Loss: 0.4390\n",
            "Epoch: 150, Loss: 0.4212\n",
            "Epoch: 151, Loss: 0.4128\n",
            "Epoch: 152, Loss: 0.3779\n",
            "Epoch: 153, Loss: 0.4801\n",
            "Epoch: 154, Loss: 0.4130\n",
            "Epoch: 155, Loss: 0.3962\n",
            "Epoch: 156, Loss: 0.4262\n",
            "Epoch: 157, Loss: 0.4210\n",
            "Epoch: 158, Loss: 0.4081\n",
            "Epoch: 159, Loss: 0.4066\n",
            "Epoch: 160, Loss: 0.3782\n",
            "Epoch: 161, Loss: 0.3836\n",
            "Epoch: 162, Loss: 0.4172\n",
            "Epoch: 163, Loss: 0.3993\n",
            "Epoch: 164, Loss: 0.4477\n",
            "Epoch: 165, Loss: 0.3714\n",
            "Epoch: 166, Loss: 0.3610\n",
            "Epoch: 167, Loss: 0.4546\n",
            "Epoch: 168, Loss: 0.4387\n",
            "Epoch: 169, Loss: 0.3793\n",
            "Epoch: 170, Loss: 0.3704\n",
            "Epoch: 171, Loss: 0.4286\n",
            "Epoch: 172, Loss: 0.4131\n",
            "Epoch: 173, Loss: 0.3795\n",
            "Epoch: 174, Loss: 0.4230\n",
            "Epoch: 175, Loss: 0.4139\n",
            "Epoch: 176, Loss: 0.3586\n",
            "Epoch: 177, Loss: 0.3588\n",
            "Epoch: 178, Loss: 0.3911\n",
            "Epoch: 179, Loss: 0.3810\n",
            "Epoch: 180, Loss: 0.4203\n",
            "Epoch: 181, Loss: 0.3583\n",
            "Epoch: 182, Loss: 0.3690\n",
            "Epoch: 183, Loss: 0.4025\n",
            "Epoch: 184, Loss: 0.3920\n",
            "Epoch: 185, Loss: 0.4369\n",
            "Epoch: 186, Loss: 0.4317\n",
            "Epoch: 187, Loss: 0.4911\n",
            "Epoch: 188, Loss: 0.3369\n",
            "Epoch: 189, Loss: 0.4945\n",
            "Epoch: 190, Loss: 0.3912\n",
            "Epoch: 191, Loss: 0.3824\n",
            "Epoch: 192, Loss: 0.3479\n",
            "Epoch: 193, Loss: 0.3798\n",
            "Epoch: 194, Loss: 0.3799\n",
            "Epoch: 195, Loss: 0.4015\n",
            "Epoch: 196, Loss: 0.3615\n",
            "Epoch: 197, Loss: 0.3985\n",
            "Epoch: 198, Loss: 0.4664\n",
            "Epoch: 199, Loss: 0.3714\n",
            "Epoch: 200, Loss: 0.3810\n"
          ]
        }
      ]
    },
    {
      "cell_type": "markdown",
      "metadata": {
        "id": "kG4IKy9YOLGF"
      },
      "source": [
        "After training the model, we can call the `test` function to see how well our model performs on unseen labels.\n",
        "Here, we are interested in the accuracy of the model, *i.e.*, the ratio of correctly classified nodes:"
      ]
    },
    {
      "cell_type": "code",
      "metadata": {
        "id": "dBBCeLlAL0oL",
        "colab": {
          "base_uri": "https://localhost:8080/"
        },
        "outputId": "40fcab36-36ad-4a52-a3ad-9cf0a535b408"
      },
      "source": [
        "test_acc = test()\n",
        "print(f'Test Accuracy: {test_acc:.4f}')"
      ],
      "execution_count": 5,
      "outputs": [
        {
          "output_type": "stream",
          "name": "stdout",
          "text": [
            "Test Accuracy: 0.5900\n"
          ]
        }
      ]
    },
    {
      "cell_type": "markdown",
      "metadata": {
        "id": "_jjJOB-VO-cw"
      },
      "source": [
        "As one can see, our MLP performs rather bad with only about 59% test accuracy.\n",
        "But why does the MLP do not perform better?\n",
        "The main reason for that is that this model suffers from heavy overfitting due to only having access to a **small amount of training nodes**, and therefore generalizes poorly to unseen node representations.\n",
        "\n",
        "It also fails to incorporate an important bias into the model: **Cited papers are very likely related to the category of a document**.\n",
        "That is exactly where Graph Neural Networks come into play and can help to boost the performance of our model.\n",
        "\n"
      ]
    },
    {
      "cell_type": "markdown",
      "metadata": {
        "id": "_OWGw54wRd98"
      },
      "source": [
        "## Training a Graph Neural Network (GNN)\n",
        "\n",
        "We can easily convert our MLP to a GNN by swapping the `torch.nn.Linear` layers with PyG's GNN operators.\n",
        "\n",
        "Following-up on [the first part of this tutorial](https://colab.research.google.com/drive/1h3-vJGRVloF5zStxL5I0rSy4ZUPNsjy8), we replace the linear layers by the [`GCNConv`](https://pytorch-geometric.readthedocs.io/en/latest/modules/nn.html#torch_geometric.nn.conv.GCNConv) module.\n",
        "To recap, the **GCN layer** ([Kipf et al. (2017)](https://arxiv.org/abs/1609.02907)) is defined as\n",
        "\n",
        "$$\n",
        "\\mathbf{x}_v^{(\\ell + 1)} = \\mathbf{W}^{(\\ell + 1)} \\sum_{w \\in \\mathcal{N}(v) \\, \\cup \\, \\{ v \\}} \\frac{1}{c_{w,v}} \\cdot \\mathbf{x}_w^{(\\ell)}\n",
        "$$\n",
        "\n",
        "where $\\mathbf{W}^{(\\ell + 1)}$ denotes a trainable weight matrix of shape `[num_output_features, num_input_features]` and $c_{w,v}$ refers to a fixed normalization coefficient for each edge.\n",
        "In contrast, a single `Linear` layer is defined as\n",
        "\n",
        "$$\n",
        "\\mathbf{x}_v^{(\\ell + 1)} = \\mathbf{W}^{(\\ell + 1)} \\mathbf{x}_v^{(\\ell)}\n",
        "$$\n",
        "\n",
        "which does not make use of neighboring node information."
      ]
    },
    {
      "cell_type": "code",
      "metadata": {
        "id": "fmXWs1dKIzD8",
        "colab": {
          "base_uri": "https://localhost:8080/"
        },
        "outputId": "373e8e1a-639c-4103-c4a4-bb11245247b4"
      },
      "source": [
        "from torch_geometric.nn import GCNConv\n",
        "\n",
        "\n",
        "class GCN(torch.nn.Module):\n",
        "    def __init__(self, hidden_channels):\n",
        "        super().__init__()\n",
        "        torch.manual_seed(1234567)\n",
        "        self.conv1 = GCNConv(dataset.num_features, hidden_channels)\n",
        "        self.conv2 = GCNConv(hidden_channels, dataset.num_classes)\n",
        "\n",
        "    def forward(self, x, edge_index):\n",
        "        x = self.conv1(x, edge_index)\n",
        "        x = x.relu()\n",
        "        x = F.dropout(x, p=0.5, training=self.training)\n",
        "        x = self.conv2(x, edge_index)\n",
        "        return x\n",
        "\n",
        "model = GCN(hidden_channels=16)\n",
        "print(model)"
      ],
      "execution_count": 6,
      "outputs": [
        {
          "output_type": "stream",
          "name": "stdout",
          "text": [
            "GCN(\n",
            "  (conv1): GCNConv(1433, 16)\n",
            "  (conv2): GCNConv(16, 7)\n",
            ")\n"
          ]
        }
      ]
    },
    {
      "cell_type": "markdown",
      "metadata": {
        "id": "XhO8QDgYf_Q8"
      },
      "source": [
        "Let's visualize the node embeddings of our **untrained** GCN network.\n",
        "For visualization, we make use of [**TSNE**](https://scikit-learn.org/stable/modules/generated/sklearn.manifold.TSNE.html) to embed our 7-dimensional node embeddings onto a 2D plane."
      ]
    },
    {
      "cell_type": "code",
      "metadata": {
        "id": "ntt9qVFXlk6A"
      },
      "source": [
        "model = GCN(hidden_channels=16)\n",
        "model.eval()\n",
        "\n",
        "out = model(data.x, data.edge_index)\n",
        "visualize(out, color=data.y)"
      ],
      "execution_count": null,
      "outputs": []
    },
    {
      "cell_type": "markdown",
      "metadata": {
        "id": "Fpdscco5g6kG"
      },
      "source": [
        "We certainly can do better by training our model.\n",
        "The training and testing procedure is once again the same, but this time we make use of the node features `x` **and** the graph connectivity `edge_index` as input to our GCN model."
      ]
    },
    {
      "cell_type": "code",
      "metadata": {
        "id": "p3TAi69zI1bO",
        "colab": {
          "base_uri": "https://localhost:8080/",
          "height": 300
        },
        "outputId": "4ad25e08-92dd-4396-f144-7a98126d6bf4"
      },
      "source": [
        "from IPython.display import Javascript  # Restrict height of output cell.\n",
        "display(Javascript('''google.colab.output.setIframeHeight(0, true, {maxHeight: 300})'''))\n",
        "\n",
        "model = GCN(hidden_channels=16)\n",
        "optimizer = torch.optim.Adam(model.parameters(), lr=0.01, weight_decay=5e-4)\n",
        "criterion = torch.nn.CrossEntropyLoss()\n",
        "\n",
        "def train():\n",
        "      model.train()\n",
        "      optimizer.zero_grad()  # Clear gradients.\n",
        "      out = model(data.x, data.edge_index)  # Perform a single forward pass.\n",
        "      loss = criterion(out[data.train_mask], data.y[data.train_mask])  # Compute the loss solely based on the training nodes.\n",
        "      loss.backward()  # Derive gradients.\n",
        "      optimizer.step()  # Update parameters based on gradients.\n",
        "      return loss\n",
        "\n",
        "def test():\n",
        "      model.eval()\n",
        "      out = model(data.x, data.edge_index)\n",
        "      pred = out.argmax(dim=1)  # Use the class with highest probability.\n",
        "      test_correct = pred[data.test_mask] == data.y[data.test_mask]  # Check against ground-truth labels.\n",
        "      test_acc = int(test_correct.sum()) / int(data.test_mask.sum())  # Derive ratio of correct predictions.\n",
        "      return test_acc\n",
        "\n",
        "\n",
        "for epoch in range(1, 101):\n",
        "    loss = train()\n",
        "    print(f'Epoch: {epoch:03d}, Loss: {loss:.4f}')"
      ],
      "execution_count": null,
      "outputs": [
        {
          "output_type": "display_data",
          "data": {
            "application/javascript": [
              "google.colab.output.setIframeHeight(0, true, {maxHeight: 300})"
            ],
            "text/plain": [
              "<IPython.core.display.Javascript object>"
            ]
          },
          "metadata": {}
        },
        {
          "output_type": "stream",
          "name": "stdout",
          "text": [
            "Epoch: 001, Loss: 1.9463\n",
            "Epoch: 002, Loss: 1.9409\n",
            "Epoch: 003, Loss: 1.9343\n",
            "Epoch: 004, Loss: 1.9275\n",
            "Epoch: 005, Loss: 1.9181\n",
            "Epoch: 006, Loss: 1.9086\n",
            "Epoch: 007, Loss: 1.9015\n",
            "Epoch: 008, Loss: 1.8933\n",
            "Epoch: 009, Loss: 1.8808\n",
            "Epoch: 010, Loss: 1.8685\n",
            "Epoch: 011, Loss: 1.8598\n",
            "Epoch: 012, Loss: 1.8482\n",
            "Epoch: 013, Loss: 1.8290\n",
            "Epoch: 014, Loss: 1.8233\n",
            "Epoch: 015, Loss: 1.8057\n",
            "Epoch: 016, Loss: 1.7966\n",
            "Epoch: 017, Loss: 1.7825\n",
            "Epoch: 018, Loss: 1.7617\n",
            "Epoch: 019, Loss: 1.7491\n",
            "Epoch: 020, Loss: 1.7310\n",
            "Epoch: 021, Loss: 1.7147\n",
            "Epoch: 022, Loss: 1.7056\n",
            "Epoch: 023, Loss: 1.6954\n",
            "Epoch: 024, Loss: 1.6697\n",
            "Epoch: 025, Loss: 1.6538\n",
            "Epoch: 026, Loss: 1.6312\n",
            "Epoch: 027, Loss: 1.6161\n",
            "Epoch: 028, Loss: 1.5899\n",
            "Epoch: 029, Loss: 1.5711\n",
            "Epoch: 030, Loss: 1.5576\n",
            "Epoch: 031, Loss: 1.5393\n",
            "Epoch: 032, Loss: 1.5137\n",
            "Epoch: 033, Loss: 1.4948\n",
            "Epoch: 034, Loss: 1.4913\n",
            "Epoch: 035, Loss: 1.4698\n",
            "Epoch: 036, Loss: 1.3998\n",
            "Epoch: 037, Loss: 1.4041\n",
            "Epoch: 038, Loss: 1.3761\n",
            "Epoch: 039, Loss: 1.3631\n",
            "Epoch: 040, Loss: 1.3258\n",
            "Epoch: 041, Loss: 1.3030\n",
            "Epoch: 042, Loss: 1.3119\n",
            "Epoch: 043, Loss: 1.2519\n",
            "Epoch: 044, Loss: 1.2530\n",
            "Epoch: 045, Loss: 1.2492\n",
            "Epoch: 046, Loss: 1.2205\n",
            "Epoch: 047, Loss: 1.2037\n",
            "Epoch: 048, Loss: 1.1571\n",
            "Epoch: 049, Loss: 1.1700\n",
            "Epoch: 050, Loss: 1.1296\n",
            "Epoch: 051, Loss: 1.0860\n",
            "Epoch: 052, Loss: 1.1080\n",
            "Epoch: 053, Loss: 1.0564\n",
            "Epoch: 054, Loss: 1.0157\n",
            "Epoch: 055, Loss: 1.0362\n",
            "Epoch: 056, Loss: 1.0328\n",
            "Epoch: 057, Loss: 1.0058\n",
            "Epoch: 058, Loss: 0.9865\n",
            "Epoch: 059, Loss: 0.9667\n",
            "Epoch: 060, Loss: 0.9741\n",
            "Epoch: 061, Loss: 0.9769\n",
            "Epoch: 062, Loss: 0.9122\n",
            "Epoch: 063, Loss: 0.8993\n",
            "Epoch: 064, Loss: 0.8769\n",
            "Epoch: 065, Loss: 0.8575\n",
            "Epoch: 066, Loss: 0.8897\n",
            "Epoch: 067, Loss: 0.8312\n",
            "Epoch: 068, Loss: 0.8262\n",
            "Epoch: 069, Loss: 0.8511\n",
            "Epoch: 070, Loss: 0.7711\n",
            "Epoch: 071, Loss: 0.8012\n",
            "Epoch: 072, Loss: 0.7529\n",
            "Epoch: 073, Loss: 0.7525\n",
            "Epoch: 074, Loss: 0.7689\n",
            "Epoch: 075, Loss: 0.7553\n",
            "Epoch: 076, Loss: 0.7032\n",
            "Epoch: 077, Loss: 0.7326\n",
            "Epoch: 078, Loss: 0.7122\n",
            "Epoch: 079, Loss: 0.7090\n",
            "Epoch: 080, Loss: 0.6755\n",
            "Epoch: 081, Loss: 0.6666\n",
            "Epoch: 082, Loss: 0.6679\n",
            "Epoch: 083, Loss: 0.7037\n",
            "Epoch: 084, Loss: 0.6752\n",
            "Epoch: 085, Loss: 0.6266\n",
            "Epoch: 086, Loss: 0.6564\n",
            "Epoch: 087, Loss: 0.6266\n",
            "Epoch: 088, Loss: 0.6411\n",
            "Epoch: 089, Loss: 0.6226\n",
            "Epoch: 090, Loss: 0.6535\n",
            "Epoch: 091, Loss: 0.6317\n",
            "Epoch: 092, Loss: 0.5741\n",
            "Epoch: 093, Loss: 0.5572\n",
            "Epoch: 094, Loss: 0.5710\n",
            "Epoch: 095, Loss: 0.5816\n",
            "Epoch: 096, Loss: 0.5745\n",
            "Epoch: 097, Loss: 0.5547\n",
            "Epoch: 098, Loss: 0.5989\n",
            "Epoch: 099, Loss: 0.6021\n",
            "Epoch: 100, Loss: 0.5799\n"
          ]
        }
      ]
    },
    {
      "cell_type": "markdown",
      "metadata": {
        "id": "opBBGQHqg5ZO"
      },
      "source": [
        "After training the model, we can check its test accuracy:"
      ]
    },
    {
      "cell_type": "code",
      "metadata": {
        "id": "8zOh6IIeI3Op",
        "colab": {
          "base_uri": "https://localhost:8080/"
        },
        "outputId": "1495b4b5-77c3-4374-ced1-5ad9d352a465"
      },
      "source": [
        "test_acc = test()\n",
        "print(f'Test Accuracy: {test_acc:.4f}')"
      ],
      "execution_count": null,
      "outputs": [
        {
          "output_type": "stream",
          "name": "stdout",
          "text": [
            "Test Accuracy: 0.8150\n"
          ]
        }
      ]
    },
    {
      "cell_type": "markdown",
      "metadata": {
        "id": "yhofzjaqhfY2"
      },
      "source": [
        "**There it is!**\n",
        "By simply swapping the linear layers with GNN layers, we can reach **81.5% of test accuracy**!\n",
        "This is in stark contrast to the 59% of test accuracy obtained by our MLP, indicating that relational information plays a crucial role in obtaining better performance.\n",
        "\n",
        "We can also verify that once again by looking at the output embeddings of our **trained** model, which now produces a far better clustering of nodes of the same category."
      ]
    },
    {
      "cell_type": "code",
      "metadata": {
        "id": "9r_VmGMukf5R",
        "colab": {
          "base_uri": "https://localhost:8080/",
          "height": 578
        },
        "outputId": "b4f41cab-6203-42df-d5a8-86c6b8f13cdd"
      },
      "source": [
        "model.eval()\n",
        "\n",
        "out = model(data.x, data.edge_index)\n",
        "visualize(out, color=data.y)"
      ],
      "execution_count": null,
      "outputs": [
        {
          "output_type": "display_data",
          "data": {
            "image/png": "[encoded data removed]",
            "text/plain": [
              "<Figure size 720x720 with 1 Axes>"
            ]
          },
          "metadata": {}
        }
      ]
    },
    {
      "cell_type": "markdown",
      "metadata": {
        "id": "paMH3_7ejSg4"
      },
      "source": [
        "## Conclusion\n",
        "\n",
        "In this chapter, you have seen how to apply GNNs to real-world problems, and, in particular, how they can effectively be used for boosting a model's performance.\n",
        "In the next section, we will look into how GNNs can be used for the task of graph classification.\n",
        "\n",
        "[Next: Graph Classification with Graph Neural Networks](https://colab.research.google.com/drive/1I8a0DfQ3fI7Njc62__mVXUlcAleUclnb)"
      ]
    },
    {
      "cell_type": "markdown",
      "metadata": {
        "id": "S-q6Do4INLET"
      },
      "source": [
        "## (Optional) Exercises\n",
        "\n",
        "1. To achieve better model performance and to avoid overfitting, it is usually a good idea to select the best model based on an additional validation set.\n",
        "The `Cora` dataset provides a validation node set as `data.val_mask`, but we haven't used it yet.\n",
        "Can you modify the code to select and test the model with the highest validation performance?\n",
        "This should bring test performance to **82% accuracy**.\n",
        "\n",
        "2. How does `GCN` behave when increasing the hidden feature dimensionality or the number of layers?\n",
        "Does increasing the number of layers help at all?\n",
        "\n",
        "3. You can try to use different GNN layers to see how model performance changes. What happens if you swap out all `GCNConv` instances with [`GATConv`](https://pytorch-geometric.readthedocs.io/en/latest/modules/nn.html#torch_geometric.nn.conv.GATConv) layers that make use of attention? Try to write a 2-layer `GAT` model that makes use of 8 attention heads in the first layer and 1 attention head in the second layer, uses a `dropout` ratio of `0.6` inside and outside each `GATConv` call, and uses a `hidden_channels` dimensions of `8` per head."
      ]
    },
    {
      "cell_type": "code",
      "metadata": {
        "id": "pcr9joFQ6Mri"
      },
      "source": [
        "from torch_geometric.nn import GATConv\n",
        "\n",
        "\n",
        "class GAT(torch.nn.Module):\n",
        "    def __init__(self, hidden_channels, heads):\n",
        "        super().__init__()\n",
        "        torch.manual_seed(1234567)\n",
        "        self.conv1 = GATConv(...)  # TODO\n",
        "        self.conv2 = GATConv(...)  # TODO\n",
        "\n",
        "    def forward(self, x, edge_index):\n",
        "        x = F.dropout(x, p=0.6, training=self.training)\n",
        "        x = self.conv1(x, edge_index)\n",
        "        x = F.elu(x)\n",
        "        x = F.dropout(x, p=0.6, training=self.training)\n",
        "        x = self.conv2(x, edge_index)\n",
        "        return x\n",
        "\n",
        "model = GAT(hidden_channels=8, heads=8)\n",
        "print(model)\n",
        "\n",
        "optimizer = torch.optim.Adam(model.parameters(), lr=0.005, weight_decay=5e-4)\n",
        "criterion = torch.nn.CrossEntropyLoss()\n",
        "\n",
        "def train():\n",
        "      model.train()\n",
        "      optimizer.zero_grad()  # Clear gradients.\n",
        "      out = model(data.x, data.edge_index)  # Perform a single forward pass.\n",
        "      loss = criterion(out[data.train_mask], data.y[data.train_mask])  # Compute the loss solely based on the training nodes.\n",
        "      loss.backward()  # Derive gradients.\n",
        "      optimizer.step()  # Update parameters based on gradients.\n",
        "      return loss\n",
        "\n",
        "def test(mask):\n",
        "      model.eval()\n",
        "      out = model(data.x, data.edge_index)\n",
        "      pred = out.argmax(dim=1)  # Use the class with highest probability.\n",
        "      correct = pred[mask] == data.y[mask]  # Check against ground-truth labels.\n",
        "      acc = int(correct.sum()) / int(mask.sum())  # Derive ratio of correct predictions.\n",
        "      return acc\n",
        "\n",
        "\n",
        "for epoch in range(1, 201):\n",
        "    loss = train()\n",
        "    val_acc = test(data.val_mask)\n",
        "    test_acc = test(data.test_mask)\n",
        "    print(f'Epoch: {epoch:03d}, Loss: {loss:.4f}, Val: {val_acc:.4f}, Test: {test_acc:.4f}')"
      ],
      "execution_count": null,
      "outputs": []
    }
  ]
}